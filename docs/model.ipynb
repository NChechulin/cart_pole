{
 "cells": [
  {
   "cell_type": "markdown",
   "metadata": {},
   "source": [
    "# Cart pole"
   ]
  },
  {
   "cell_type": "markdown",
   "metadata": {},
   "source": [
    "## 1. Overview\n",
    "\n",
    "The environment is some variation of the cart-pole problem described by Barto, Sutton, and Anderson.\n",
    "A pole is attached by an joint to a cart, which moves along guide axis.\n",
    "The pole is initially at rest state. The goal is to swing up the pole and maintain it in\n",
    "upright pose by increasing and reducing the cart's velocity.\n",
    "\n",
    "![physical model](test.svg)\n",
    "\n",
    "### Initial state\n",
    "- The cart is at starting position 0 with no velocity and acceleration.\n",
    "- The pole is at rest state.\n",
    "    \n",
    "### Control\n",
    "Some stepper drives the cart. The motor is controlled by discrete velocity changes every time step.\n",
    "The control command (aka target) is desired acceleration of the cart.\n",
    "\n"
   ]
  },
  {
   "cell_type": "markdown",
   "metadata": {},
   "source": [
    "## 2. Dynamics \n",
    "### Energy\n",
    "Let's look at the dynamics of the entire system. We believe that the pole is homogeneous and has a mass center in the middle. The pontential energy of pole is depend on curernt angle $\\theta$.\n",
    "\n",
    "\n",
    "$$U_p = -m_p g\\frac{l}{2}\\cos\\theta$$\n",
    "\n",
    "The kinetic energy of cart-pole system is\n",
    "\n",
    "$$T_c = \\frac{m_c}{2}\\dot{x}^2$$\n",
    "$$T_p = \\frac{m_p}{2} \\big[\\dot{x}^2 + \\frac{l^2 \\dot{\\theta}^2}{3} + l\\dot{x}\\dot{\\theta}\\cos\\theta \\big]$$\n",
    "\n",
    "<details><summary>Some details...</summary>\n",
    "The cart has only translational motion, so kinetic energy equals to\n",
    "$$T_c = \\frac{m_c\\dot{x}^2}{2}.$$\n",
    "\n",
    "As for pole, we split energy at rotational  and translational parts, where $I$ is moment of inertia and $v_{pc}$ – velocity of mass center.\n",
    "\n",
    "$$T^r_p = \\frac{I\\dot{\\theta}^2}{2}, ~ I=\\frac{1}{12}m_p l^2$$\n",
    "\n",
    "$$T^t_p = \\frac{m_p v^2_{pc}}{2}, ~ v^2_{pc} = \\dot{x}^2_{pc} + \\dot{y}^2_{pc}$$\n",
    "\n",
    "It is convenient to decompose the velocity of mass center into $x$ and $y$ axes' components (keep in mind that the pole moves with the cart along axe).\n",
    "\n",
    "$$\\dot{x}_{pc} = \\dot{x} + \\frac{l}{2}\\dot{\\theta}\\cos\\theta, ~ \\dot{y}_{pc} = \\frac{l}{2}\\dot{\\theta}\\sin\\theta.$$\n",
    "\n",
    "Have some math magic and get \n",
    "\n",
    "$$\n",
    "T_p =\n",
    "T^r_p + T^t_p =\n",
    "\\frac{m_p}{2} \\cdot \\frac{l^2 \\dot{\\theta}^2}{12} +\n",
    "\\frac{m_p}{2} \\cdot \\big[\n",
    "    \\dot{x}^2 +\n",
    "    \\frac{l^2 \\dot{\\theta}^2}{4} +\n",
    "    l \\dot{x} \\dot {\\theta}\\cos\\theta\n",
    "\\big] = \n",
    "\\frac{m_p}{2} \\cdot \\big[\n",
    "    \\dot{x}^2 +\n",
    "    \\frac{l^2 \\dot{\\theta}^2}{3} +\n",
    "    l \\dot{x} \\dot {\\theta}\\cos\\theta\n",
    "\\big]\n",
    "$$\n",
    "</details>\n",
    "\n",
    "### Lagrangian"
   ]
  },
  {
   "cell_type": "code",
   "execution_count": null,
   "metadata": {},
   "outputs": [],
   "source": []
  }
 ],
 "metadata": {
  "kernelspec": {
   "display_name": "Python 3",
   "language": "python",
   "name": "python3"
  },
  "language_info": {
   "codemirror_mode": {
    "name": "ipython",
    "version": 3
   },
   "file_extension": ".py",
   "mimetype": "text/x-python",
   "name": "python",
   "nbconvert_exporter": "python",
   "pygments_lexer": "ipython3",
   "version": "3.9.6"
  }
 },
 "nbformat": 4,
 "nbformat_minor": 4
}
