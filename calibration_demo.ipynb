{
 "cells": [
  {
   "cell_type": "code",
   "execution_count": null,
   "metadata": {},
   "outputs": [],
   "source": [
    "import sys\n",
    "sys.version_info"
   ]
  },
  {
   "cell_type": "code",
   "execution_count": 2,
   "metadata": {},
   "outputs": [],
   "source": [
    "from common import Config, State, generate_pyplot_animation\n",
    "from control import BalanceLQRControl, Trajectory, TrajectoryLQRControl\n",
    "from simulator import CartPoleSimulator\n",
    "\n",
    "import matplotlib.pyplot as plt\n",
    "import numpy as np\n",
    "\n",
    "from IPython.display import HTML"
   ]
  },
  {
   "cell_type": "markdown",
   "metadata": {},
   "source": [
    "Calibration steps!\n",
    "\n",
    "1. TRACK'S LENGTH *update*\n",
    "    1. Move max to the right\n",
    "    2. Move max to the left\n",
    "    3. *update* hard_max_\n",
    "    position = covered distance\n",
    "    4. *update* max_position = 0.9 * hard_max_position\n",
    "    5. *update* zero_point (in State?)\n",
    "    \n",
    "2. HOMING\n",
    "\n",
    "3. POLE'S MASS AND LENGTH *update*\n",
    "    1. Some sin-looking accelerated trajectory \n",
    "    2. *update* pole_mass\n",
    "    3. *update* pole_length\n",
    "    \n",
    "4. HOMING\n"
   ]
  },
  {
   "cell_type": "code",
   "execution_count": 7,
   "metadata": {},
   "outputs": [],
   "source": [
    "class Calibration:\n",
    "    config = Config()\n",
    "    def __init__(self):\n",
    "        \n",
    "        "
   ]
  },
  {
   "cell_type": "code",
   "execution_count": null,
   "metadata": {},
   "outputs": [],
   "source": []
  },
  {
   "cell_type": "code",
   "execution_count": null,
   "metadata": {},
   "outputs": [],
   "source": []
  },
  {
   "cell_type": "code",
   "execution_count": null,
   "metadata": {},
   "outputs": [],
   "source": []
  },
  {
   "cell_type": "code",
   "execution_count": null,
   "metadata": {},
   "outputs": [],
   "source": []
  }
 ],
 "metadata": {
  "kernelspec": {
   "display_name": "Python 3",
   "language": "python",
   "name": "python3"
  },
  "language_info": {
   "codemirror_mode": {
    "name": "ipython",
    "version": 3
   },
   "file_extension": ".py",
   "mimetype": "text/x-python",
   "name": "python",
   "nbconvert_exporter": "python",
   "pygments_lexer": "ipython3",
   "version": "3.6.9"
  }
 },
 "nbformat": 4,
 "nbformat_minor": 2
}
