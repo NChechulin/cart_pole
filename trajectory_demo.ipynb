{
 "cells": [
  {
   "cell_type": "markdown",
   "metadata": {},
   "source": [
    "# Simulator demo"
   ]
  },
  {
   "cell_type": "code",
   "execution_count": 1,
   "metadata": {},
   "outputs": [
    {
     "data": {
      "text/plain": [
       "sys.version_info(major=3, minor=6, micro=9, releaselevel='final', serial=0)"
      ]
     },
     "execution_count": 1,
     "metadata": {},
     "output_type": "execute_result"
    }
   ],
   "source": [
    "import sys\n",
    "sys.version_info"
   ]
  },
  {
   "cell_type": "code",
   "execution_count": 1,
   "metadata": {},
   "outputs": [],
   "source": [
    "from common import Config, State, generate_pyplot_animation\n",
    "from control import BalanceLQRControl, Trajectory, TrajectoryLQRControl\n",
    "from simulator import CartPoleSimulator\n",
    "\n",
    "import matplotlib.pyplot as plt\n",
    "import numpy as np\n",
    "\n",
    "from IPython.display import HTML"
   ]
  },
  {
   "cell_type": "code",
   "execution_count": 2,
   "metadata": {
    "scrolled": true
   },
   "outputs": [
    {
     "name": "stderr",
     "output_type": "stream",
     "text": [
      "/home/sandbox/cart_pole/control/trajectory.py:33: DrakeDeprecationWarning: Use trajopt.prog().AddBoundingBoxConstraint(...) instead of trajopt.AddBoundingBoxConstraint(...). The deprecated code will be removed from Drake on or after 2022-05-01.\n",
      "  program.initial_state())\n",
      "/home/sandbox/cart_pole/control/trajectory.py:60: DrakeDeprecationWarning: The trajectory optimization classes no longer derive from MathematicalProgram.  Use Solve(trajopt.prog()). The deprecated code will be removed from Drake on or after 2022-05-01.\n",
      "  result = Solve(program)\n"
     ]
    },
    {
     "name": "stdout",
     "output_type": "stream",
     "text": [
      "0 q=[<AutoDiffXd 0.0 nderiv=11>, <AutoDiffXd 0.0 nderiv=11>, <AutoDiffXd 0.0 nderiv=11>, <AutoDiffXd 0.0 nderiv=11>] u=AD{0.0, nderiv=11} a=AD{0.0, nderiv=11} g=AD{9.8, nderiv=0} l=AD{0.1, nderiv=0} res=AD{-0.0, nderiv=11}\n",
      "1 q=[<AutoDiffXd 0.0 nderiv=11>, <AutoDiffXd 0.0 nderiv=11>, <AutoDiffXd 0.0 nderiv=11>, <AutoDiffXd 0.0 nderiv=11>] u=AD{0.0, nderiv=11} a=AD{0.0, nderiv=11} g=AD{9.8, nderiv=0} l=AD{0.1, nderiv=0} res=AD{-0.0, nderiv=11}\n",
      "2 q=[<AutoDiffXd 0.0 nderiv=11>, <AutoDiffXd 0.0 nderiv=11>, <AutoDiffXd 0.0 nderiv=11>, <AutoDiffXd 0.0 nderiv=11>] u=AD{0.0, nderiv=11} a=AD{0.0, nderiv=11} g=AD{9.8, nderiv=0} l=AD{0.1, nderiv=0} res=AD{-0.0, nderiv=11}\n",
      "3 q=[<AutoDiffXd 0.0 nderiv=11>, <AutoDiffXd 0.0 nderiv=11>, <AutoDiffXd 0.0 nderiv=11>, <AutoDiffXd 0.0 nderiv=11>] u=AD{0.0, nderiv=11} a=AD{0.0, nderiv=11} g=AD{9.8, nderiv=0} l=AD{0.1, nderiv=0} res=AD{-0.0, nderiv=11}\n",
      "4 q=[<AutoDiffXd 0.0 nderiv=11>, <AutoDiffXd 0.0 nderiv=11>, <AutoDiffXd 0.0 nderiv=11>, <AutoDiffXd 0.0 nderiv=11>] u=AD{0.0, nderiv=11} a=AD{0.0, nderiv=11} g=AD{9.8, nderiv=0} l=AD{0.1, nderiv=0} res=AD{-0.0, nderiv=11}\n",
      "5 q=[<AutoDiffXd 0.0 nderiv=11>, <AutoDiffXd 0.0 nderiv=11>, <AutoDiffXd 0.0 nderiv=11>, <AutoDiffXd 0.0 nderiv=11>] u=AD{0.0, nderiv=11} a=AD{0.0, nderiv=11} g=AD{9.8, nderiv=0} l=AD{0.1, nderiv=0} res=AD{-0.0, nderiv=11}\n",
      "6 q=[<AutoDiffXd 0.0 nderiv=11>, <AutoDiffXd 0.0 nderiv=11>, <AutoDiffXd 0.0 nderiv=11>, <AutoDiffXd 0.0 nderiv=11>] u=AD{0.0, nderiv=11} a=AD{0.0, nderiv=11} g=AD{9.8, nderiv=0} l=AD{0.1, nderiv=0} res=AD{-0.0, nderiv=11}\n",
      "7 q=[<AutoDiffXd 0.0 nderiv=11>, <AutoDiffXd 0.0 nderiv=11>, <AutoDiffXd 0.0 nderiv=11>, <AutoDiffXd 0.0 nderiv=11>] u=AD{0.0, nderiv=11} a=AD{0.0, nderiv=11} g=AD{9.8, nderiv=0} l=AD{0.1, nderiv=0} res=AD{-0.0, nderiv=11}\n",
      "8 q=[<AutoDiffXd 0.0 nderiv=11>, <AutoDiffXd 0.0 nderiv=11>, <AutoDiffXd 0.0 nderiv=11>, <AutoDiffXd 0.0 nderiv=11>] u=AD{0.0, nderiv=11} a=AD{0.0, nderiv=11} g=AD{9.8, nderiv=0} l=AD{0.1, nderiv=0} res=AD{-0.0, nderiv=11}\n",
      "9 q=[<AutoDiffXd 0.0 nderiv=11>, <AutoDiffXd 0.0 nderiv=11>, <AutoDiffXd 0.0 nderiv=11>, <AutoDiffXd 0.0 nderiv=11>] u=AD{0.0, nderiv=11} a=AD{0.0, nderiv=11} g=AD{9.8, nderiv=0} l=AD{0.1, nderiv=0} res=AD{-0.0, nderiv=11}\n",
      "10 q=[<AutoDiffXd 0.0 nderiv=11>, <AutoDiffXd 0.0 nderiv=11>, <AutoDiffXd 0.0 nderiv=11>, <AutoDiffXd 0.0 nderiv=11>] u=AD{0.0, nderiv=11} a=AD{0.0, nderiv=11} g=AD{9.8, nderiv=0} l=AD{0.1, nderiv=0} res=AD{-0.0, nderiv=11}\n",
      "11 q=[<AutoDiffXd 0.0 nderiv=11>, <AutoDiffXd 0.0 nderiv=11>, <AutoDiffXd 0.0 nderiv=11>, <AutoDiffXd 0.0 nderiv=11>] u=AD{0.0, nderiv=11} a=AD{0.0, nderiv=11} g=AD{9.8, nderiv=0} l=AD{0.1, nderiv=0} res=AD{-0.0, nderiv=11}\n",
      "12 q=[<AutoDiffXd 0.0 nderiv=11>, <AutoDiffXd 0.0 nderiv=11>, <AutoDiffXd 0.0 nderiv=11>, <AutoDiffXd 0.0 nderiv=11>] u=AD{0.0, nderiv=11} a=AD{0.0, nderiv=11} g=AD{9.8, nderiv=0} l=AD{0.1, nderiv=0} res=AD{-0.0, nderiv=11}\n",
      "13 q=[<AutoDiffXd 0.0 nderiv=11>, <AutoDiffXd 0.0 nderiv=11>, <AutoDiffXd 0.0 nderiv=11>, <AutoDiffXd 0.0 nderiv=11>] u=AD{0.0, nderiv=11} a=AD{0.0, nderiv=11} g=AD{9.8, nderiv=0} l=AD{0.1, nderiv=0} res=AD{-0.0, nderiv=11}\n",
      "14 q=[<AutoDiffXd 0.0 nderiv=11>, <AutoDiffXd 0.0 nderiv=11>, <AutoDiffXd 0.0 nderiv=11>, <AutoDiffXd 0.0 nderiv=11>] u=AD{0.0, nderiv=11} a=AD{0.0, nderiv=11} g=AD{9.8, nderiv=0} l=AD{0.1, nderiv=0} res=AD{-0.0, nderiv=11}\n",
      "15 q=[<AutoDiffXd 0.0 nderiv=11>, <AutoDiffXd 0.0 nderiv=11>, <AutoDiffXd 0.0 nderiv=11>, <AutoDiffXd 0.0 nderiv=11>] u=AD{0.0, nderiv=11} a=AD{0.0, nderiv=11} g=AD{9.8, nderiv=0} l=AD{0.1, nderiv=0} res=AD{-0.0, nderiv=11}\n",
      "16 q=[<AutoDiffXd 0.0 nderiv=11>, <AutoDiffXd 0.0 nderiv=11>, <AutoDiffXd 0.0 nderiv=11>, <AutoDiffXd 0.0 nderiv=11>] u=AD{0.0, nderiv=11} a=AD{0.0, nderiv=11} g=AD{9.8, nderiv=0} l=AD{0.1, nderiv=0} res=AD{-0.0, nderiv=11}\n",
      "17 q=[<AutoDiffXd 0.0 nderiv=11>, <AutoDiffXd 0.0 nderiv=11>, <AutoDiffXd 0.0 nderiv=11>, <AutoDiffXd 0.0 nderiv=11>] u=AD{0.0, nderiv=11} a=AD{0.0, nderiv=11} g=AD{9.8, nderiv=0} l=AD{0.1, nderiv=0} res=AD{-0.0, nderiv=11}\n",
      "18 q=[<AutoDiffXd 0.0 nderiv=11>, <AutoDiffXd 0.0 nderiv=11>, <AutoDiffXd 0.0 nderiv=11>, <AutoDiffXd 0.0 nderiv=11>] u=AD{0.0, nderiv=11} a=AD{0.0, nderiv=11} g=AD{9.8, nderiv=0} l=AD{0.1, nderiv=0} res=AD{-0.0, nderiv=11}\n",
      "19 q=[<AutoDiffXd 0.0 nderiv=11>, <AutoDiffXd 0.0 nderiv=11>, <AutoDiffXd 0.0 nderiv=11>, <AutoDiffXd 0.0 nderiv=11>] u=AD{0.0, nderiv=11} a=AD{0.0, nderiv=11} g=AD{9.8, nderiv=0} l=AD{0.1, nderiv=0} res=AD{-0.0, nderiv=11}\n",
      "20 q=[<AutoDiffXd 0.0 nderiv=11>, <AutoDiffXd 0.0 nderiv=11>, <AutoDiffXd 0.0 nderiv=11>, <AutoDiffXd 0.0 nderiv=11>] u=AD{0.0, nderiv=11} a=AD{0.0, nderiv=11} g=AD{9.8, nderiv=0} l=AD{0.1, nderiv=0} res=AD{-0.0, nderiv=11}\n",
      "21 q=[<AutoDiffXd 0.0 nderiv=11>, <AutoDiffXd 0.0 nderiv=11>, <AutoDiffXd 0.0 nderiv=11>, <AutoDiffXd 0.0 nderiv=11>] u=AD{0.0, nderiv=11} a=AD{0.0, nderiv=11} g=AD{9.8, nderiv=0} l=AD{0.1, nderiv=0} res=AD{-0.0, nderiv=11}\n",
      "22 q=[<AutoDiffXd 0.0 nderiv=11>, <AutoDiffXd 0.0 nderiv=11>, <AutoDiffXd 0.0 nderiv=11>, <AutoDiffXd 0.0 nderiv=11>] u=AD{0.0, nderiv=11} a=AD{0.0, nderiv=11} g=AD{9.8, nderiv=0} l=AD{0.1, nderiv=0} res=AD{-0.0, nderiv=11}\n",
      "23 q=[<AutoDiffXd 0.0 nderiv=11>, <AutoDiffXd 0.0 nderiv=11>, <AutoDiffXd 0.0 nderiv=11>, <AutoDiffXd 0.0 nderiv=11>] u=AD{0.0, nderiv=11} a=AD{0.0, nderiv=11} g=AD{9.8, nderiv=0} l=AD{0.1, nderiv=0} res=AD{-0.0, nderiv=11}\n",
      "24 q=[<AutoDiffXd 0.0 nderiv=11>, <AutoDiffXd 0.0 nderiv=11>, <AutoDiffXd 0.0 nderiv=11>, <AutoDiffXd 0.0 nderiv=11>] u=AD{0.0, nderiv=11} a=AD{0.0, nderiv=11} g=AD{9.8, nderiv=0} l=AD{0.1, nderiv=0} res=AD{-0.0, nderiv=11}\n",
      "25 q=[<AutoDiffXd 0.0 nderiv=11>, <AutoDiffXd 0.0 nderiv=11>, <AutoDiffXd 0.0 nderiv=11>, <AutoDiffXd 0.0 nderiv=11>] u=AD{0.0, nderiv=11} a=AD{0.0, nderiv=11} g=AD{9.8, nderiv=0} l=AD{0.1, nderiv=0} res=AD{-0.0, nderiv=11}\n",
      "26 q=[<AutoDiffXd 0.0 nderiv=11>, <AutoDiffXd 0.0 nderiv=11>, <AutoDiffXd 0.0 nderiv=11>, <AutoDiffXd 0.0 nderiv=11>] u=AD{0.0, nderiv=11} a=AD{0.0, nderiv=11} g=AD{9.8, nderiv=0} l=AD{0.1, nderiv=0} res=AD{-0.0, nderiv=11}\n",
      "27 q=[<AutoDiffXd 0.0 nderiv=11>, <AutoDiffXd 0.0 nderiv=11>, <AutoDiffXd 0.0 nderiv=11>, <AutoDiffXd 0.0 nderiv=11>] u=AD{0.0, nderiv=11} a=AD{0.0, nderiv=11} g=AD{9.8, nderiv=0} l=AD{0.1, nderiv=0} res=AD{-0.0, nderiv=11}\n",
      "28 q=[<AutoDiffXd 0.0 nderiv=11>, <AutoDiffXd 0.0 nderiv=11>, <AutoDiffXd 0.0 nderiv=11>, <AutoDiffXd 0.0 nderiv=11>] u=AD{0.0, nderiv=11} a=AD{0.0, nderiv=11} g=AD{9.8, nderiv=0} l=AD{0.1, nderiv=0} res=AD{-0.0, nderiv=11}\n",
      "29 q=[<AutoDiffXd 0.0 nderiv=11>, <AutoDiffXd 0.0 nderiv=11>, <AutoDiffXd 0.0 nderiv=11>, <AutoDiffXd 0.0 nderiv=11>] u=AD{0.0, nderiv=11} a=AD{0.0, nderiv=11} g=AD{9.8, nderiv=0} l=AD{0.1, nderiv=0} res=AD{-0.0, nderiv=11}\n",
      "30 q=[<AutoDiffXd 0.0 nderiv=11>, <AutoDiffXd 0.0 nderiv=11>, <AutoDiffXd 0.0 nderiv=11>, <AutoDiffXd 0.0 nderiv=11>] u=AD{0.0, nderiv=11} a=AD{0.0, nderiv=11} g=AD{9.8, nderiv=0} l=AD{0.1, nderiv=0} res=AD{-0.0, nderiv=11}\n",
      "31 q=[<AutoDiffXd 0.0 nderiv=11>, <AutoDiffXd 0.0 nderiv=11>, <AutoDiffXd 0.0 nderiv=11>, <AutoDiffXd 0.0 nderiv=11>] u=AD{0.0, nderiv=11} a=AD{0.0, nderiv=11} g=AD{9.8, nderiv=0} l=AD{0.1, nderiv=0} res=AD{-0.0, nderiv=11}\n",
      "32 q=[<AutoDiffXd 0.0 nderiv=11>, <AutoDiffXd 0.0 nderiv=11>, <AutoDiffXd 0.0 nderiv=11>, <AutoDiffXd 0.0 nderiv=11>] u=AD{0.0, nderiv=11} a=AD{0.0, nderiv=11} g=AD{9.8, nderiv=0} l=AD{0.1, nderiv=0} res=AD{-0.0, nderiv=11}\n",
      "33 q=[<AutoDiffXd 0.0 nderiv=11>, <AutoDiffXd 0.0 nderiv=11>, <AutoDiffXd 0.0 nderiv=11>, <AutoDiffXd 0.0 nderiv=11>] u=AD{0.0, nderiv=11} a=AD{0.0, nderiv=11} g=AD{9.8, nderiv=0} l=AD{0.1, nderiv=0} res=AD{-0.0, nderiv=11}\n",
      "34 q=[<AutoDiffXd 0.0 nderiv=11>, <AutoDiffXd 0.0 nderiv=11>, <AutoDiffXd 0.0 nderiv=11>, <AutoDiffXd 0.0 nderiv=11>] u=AD{0.0, nderiv=11} a=AD{0.0, nderiv=11} g=AD{9.8, nderiv=0} l=AD{0.1, nderiv=0} res=AD{-0.0, nderiv=11}\n",
      "35 q=[<AutoDiffXd 0.0 nderiv=11>, <AutoDiffXd 0.0 nderiv=11>, <AutoDiffXd 0.0 nderiv=11>, <AutoDiffXd 0.0 nderiv=11>] u=AD{0.0, nderiv=11} a=AD{0.0, nderiv=11} g=AD{9.8, nderiv=0} l=AD{0.1, nderiv=0} res=AD{-0.0, nderiv=11}\n",
      "36 q=[<AutoDiffXd 0.0 nderiv=11>, <AutoDiffXd 0.0 nderiv=11>, <AutoDiffXd 0.0 nderiv=11>, <AutoDiffXd 0.0 nderiv=11>] u=AD{0.0, nderiv=11} a=AD{0.0, nderiv=11} g=AD{9.8, nderiv=0} l=AD{0.1, nderiv=0} res=AD{-0.0, nderiv=11}\n",
      "37 q=[<AutoDiffXd 0.0 nderiv=11>, <AutoDiffXd 0.0 nderiv=11>, <AutoDiffXd 0.0 nderiv=11>, <AutoDiffXd 0.0 nderiv=11>] u=AD{0.0, nderiv=11} a=AD{0.0, nderiv=11} g=AD{9.8, nderiv=0} l=AD{0.1, nderiv=0} res=AD{-0.0, nderiv=11}\n",
      "38 q=[<AutoDiffXd 0.0 nderiv=11>, <AutoDiffXd 0.0 nderiv=11>, <AutoDiffXd 0.0 nderiv=11>, <AutoDiffXd 0.0 nderiv=11>] u=AD{0.0, nderiv=11} a=AD{0.0, nderiv=11} g=AD{9.8, nderiv=0} l=AD{0.1, nderiv=0} res=AD{-0.0, nderiv=11}\n",
      "39 q=[<AutoDiffXd 0.0 nderiv=11>, <AutoDiffXd 0.0 nderiv=11>, <AutoDiffXd 0.0 nderiv=11>, <AutoDiffXd 0.0 nderiv=11>] u=AD{0.0, nderiv=11} a=AD{0.0, nderiv=11} g=AD{9.8, nderiv=0} l=AD{0.1, nderiv=0} res=AD{-0.0, nderiv=11}\n",
      "40 q=[<AutoDiffXd 0.0 nderiv=11>, <AutoDiffXd 0.0 nderiv=11>, <AutoDiffXd 0.0 nderiv=11>, <AutoDiffXd 0.0 nderiv=11>] u=AD{0.0, nderiv=11} a=AD{0.0, nderiv=11} g=AD{9.8, nderiv=0} l=AD{0.1, nderiv=0} res=AD{-0.0, nderiv=11}\n",
      "41 q=[<AutoDiffXd 0.0 nderiv=11>, <AutoDiffXd 0.0 nderiv=11>, <AutoDiffXd 0.0 nderiv=11>, <AutoDiffXd 0.0 nderiv=11>] u=AD{0.0, nderiv=11} a=AD{0.0, nderiv=11} g=AD{9.8, nderiv=0} l=AD{0.1, nderiv=0} res=AD{-0.0, nderiv=11}\n",
      "42 q=[<AutoDiffXd 0.0 nderiv=11>, <AutoDiffXd 0.0 nderiv=11>, <AutoDiffXd 0.0 nderiv=11>, <AutoDiffXd 0.0 nderiv=11>] u=AD{0.0, nderiv=11} a=AD{0.0, nderiv=11} g=AD{9.8, nderiv=0} l=AD{0.1, nderiv=0} res=AD{-0.0, nderiv=11}\n",
      "43 q=[<AutoDiffXd 0.0 nderiv=11>, <AutoDiffXd 0.0 nderiv=11>, <AutoDiffXd 0.0 nderiv=11>, <AutoDiffXd 0.0 nderiv=11>] u=AD{0.0, nderiv=11} a=AD{0.0, nderiv=11} g=AD{9.8, nderiv=0} l=AD{0.1, nderiv=0} res=AD{-0.0, nderiv=11}\n",
      "44 q=[<AutoDiffXd 0.0 nderiv=11>, <AutoDiffXd 0.0 nderiv=11>, <AutoDiffXd 0.0 nderiv=11>, <AutoDiffXd 0.0 nderiv=11>] u=AD{0.0, nderiv=11} a=AD{0.0, nderiv=11} g=AD{9.8, nderiv=0} l=AD{0.1, nderiv=0} res=AD{-0.0, nderiv=11}\n",
      "45 q=[<AutoDiffXd 0.0 nderiv=11>, <AutoDiffXd 0.0 nderiv=11>, <AutoDiffXd 0.0 nderiv=11>, <AutoDiffXd 0.0 nderiv=11>] u=AD{0.0, nderiv=11} a=AD{0.0, nderiv=11} g=AD{9.8, nderiv=0} l=AD{0.1, nderiv=0} res=AD{-0.0, nderiv=11}\n",
      "46 q=[<AutoDiffXd 0.0 nderiv=11>, <AutoDiffXd 0.0 nderiv=11>, <AutoDiffXd 0.0 nderiv=11>, <AutoDiffXd 0.0 nderiv=11>] u=AD{0.0, nderiv=11} a=AD{0.0, nderiv=11} g=AD{9.8, nderiv=0} l=AD{0.1, nderiv=0} res=AD{-0.0, nderiv=11}\n",
      "47 q=[<AutoDiffXd 0.0 nderiv=11>, <AutoDiffXd 0.0 nderiv=11>, <AutoDiffXd 0.0 nderiv=11>, <AutoDiffXd 0.0 nderiv=11>] u=AD{0.0, nderiv=11} a=AD{0.0, nderiv=11} g=AD{9.8, nderiv=0} l=AD{0.1, nderiv=0} res=AD{-0.0, nderiv=11}\n",
      "48 q=[<AutoDiffXd 0.0 nderiv=11>, <AutoDiffXd 0.0 nderiv=11>, <AutoDiffXd 0.0 nderiv=11>, <AutoDiffXd 0.0 nderiv=11>] u=AD{0.0, nderiv=11} a=AD{0.0, nderiv=11} g=AD{9.8, nderiv=0} l=AD{0.1, nderiv=0} res=AD{-0.0, nderiv=11}\n",
      "49 q=[<AutoDiffXd 0.0 nderiv=11>, <AutoDiffXd 0.0 nderiv=11>, <AutoDiffXd 0.0 nderiv=11>, <AutoDiffXd 0.0 nderiv=11>] u=AD{0.0, nderiv=11} a=AD{0.0, nderiv=11} g=AD{9.8, nderiv=0} l=AD{0.1, nderiv=0} res=AD{-0.0, nderiv=11}\n",
      "50 q=[<AutoDiffXd 0.0 nderiv=11>, <AutoDiffXd 0.0 nderiv=11>, <AutoDiffXd 0.0 nderiv=11>, <AutoDiffXd 0.0 nderiv=11>] u=AD{0.0, nderiv=11} a=AD{0.0, nderiv=11} g=AD{9.8, nderiv=0} l=AD{0.1, nderiv=0} res=AD{-0.0, nderiv=11}\n",
      "51 q=[<AutoDiffXd 0.0 nderiv=11>, <AutoDiffXd 0.0 nderiv=11>, <AutoDiffXd 0.0 nderiv=11>, <AutoDiffXd 0.0 nderiv=11>] u=AD{0.0, nderiv=11} a=AD{0.0, nderiv=11} g=AD{9.8, nderiv=0} l=AD{0.1, nderiv=0} res=AD{-0.0, nderiv=11}\n",
      "52 q=[<AutoDiffXd 0.0 nderiv=11>, <AutoDiffXd 0.0 nderiv=11>, <AutoDiffXd 0.0 nderiv=11>, <AutoDiffXd 0.0 nderiv=11>] u=AD{0.0, nderiv=11} a=AD{0.0, nderiv=11} g=AD{9.8, nderiv=0} l=AD{0.1, nderiv=0} res=AD{-0.0, nderiv=11}\n",
      "53 q=[<AutoDiffXd 0.0 nderiv=11>, <AutoDiffXd 0.0 nderiv=11>, <AutoDiffXd 0.0 nderiv=11>, <AutoDiffXd 0.0 nderiv=11>] u=AD{0.0, nderiv=11} a=AD{0.0, nderiv=11} g=AD{9.8, nderiv=0} l=AD{0.1, nderiv=0} res=AD{-0.0, nderiv=11}\n",
      "54 q=[<AutoDiffXd 0.0 nderiv=11>, <AutoDiffXd 0.0 nderiv=11>, <AutoDiffXd 0.0 nderiv=11>, <AutoDiffXd 0.0 nderiv=11>] u=AD{0.0, nderiv=11} a=AD{0.0, nderiv=11} g=AD{9.8, nderiv=0} l=AD{0.1, nderiv=0} res=AD{-0.0, nderiv=11}\n",
      "55 q=[<AutoDiffXd 0.0 nderiv=11>, <AutoDiffXd 0.0 nderiv=11>, <AutoDiffXd 0.0 nderiv=11>, <AutoDiffXd 0.0 nderiv=11>] u=AD{0.0, nderiv=11} a=AD{0.0, nderiv=11} g=AD{9.8, nderiv=0} l=AD{0.1, nderiv=0} res=AD{-0.0, nderiv=11}\n",
      "56 q=[<AutoDiffXd 0.0 nderiv=11>, <AutoDiffXd 0.0 nderiv=11>, <AutoDiffXd 0.0 nderiv=11>, <AutoDiffXd 0.0 nderiv=11>] u=AD{0.0, nderiv=11} a=AD{0.0, nderiv=11} g=AD{9.8, nderiv=0} l=AD{0.1, nderiv=0} res=AD{-0.0, nderiv=11}\n",
      "57 q=[<AutoDiffXd 0.0 nderiv=11>, <AutoDiffXd 0.0 nderiv=11>, <AutoDiffXd 0.0 nderiv=11>, <AutoDiffXd 0.0 nderiv=11>] u=AD{0.0, nderiv=11} a=AD{0.0, nderiv=11} g=AD{9.8, nderiv=0} l=AD{0.1, nderiv=0} res=AD{-0.0, nderiv=11}\n",
      "58 q=[<AutoDiffXd 0.0 nderiv=11>, <AutoDiffXd 0.0 nderiv=11>, <AutoDiffXd 0.0 nderiv=11>, <AutoDiffXd 0.0 nderiv=11>] u=AD{0.0, nderiv=11} a=AD{0.0, nderiv=11} g=AD{9.8, nderiv=0} l=AD{0.1, nderiv=0} res=AD{-0.0, nderiv=11}\n",
      "59 q=[<AutoDiffXd 0.0 nderiv=11>, <AutoDiffXd 0.0 nderiv=11>, <AutoDiffXd 0.0 nderiv=11>, <AutoDiffXd 0.0 nderiv=11>] u=AD{0.0, nderiv=11} a=AD{0.0, nderiv=11} g=AD{9.8, nderiv=0} l=AD{0.1, nderiv=0} res=AD{-0.0, nderiv=11}\n",
      "60 q=[<AutoDiffXd 0.0 nderiv=11>, <AutoDiffXd 0.0 nderiv=11>, <AutoDiffXd 0.0 nderiv=11>, <AutoDiffXd 0.0 nderiv=11>] u=AD{0.0, nderiv=11} a=AD{0.0, nderiv=11} g=AD{9.8, nderiv=0} l=AD{0.1, nderiv=0} res=AD{-0.0, nderiv=11}\n",
      "61 q=[<AutoDiffXd 0.0 nderiv=11>, <AutoDiffXd 0.0 nderiv=11>, <AutoDiffXd 0.0 nderiv=11>, <AutoDiffXd 0.0 nderiv=11>] u=AD{0.0, nderiv=11} a=AD{0.0, nderiv=11} g=AD{9.8, nderiv=0} l=AD{0.1, nderiv=0} res=AD{-0.0, nderiv=11}\n",
      "62 q=[<AutoDiffXd 0.0 nderiv=11>, <AutoDiffXd 0.0 nderiv=11>, <AutoDiffXd 0.0 nderiv=11>, <AutoDiffXd 0.0 nderiv=11>] u=AD{0.0, nderiv=11} a=AD{0.0, nderiv=11} g=AD{9.8, nderiv=0} l=AD{0.1, nderiv=0} res=AD{-0.0, nderiv=11}\n",
      "63 q=[<AutoDiffXd 0.0 nderiv=11>, <AutoDiffXd 0.0 nderiv=11>, <AutoDiffXd 0.0 nderiv=11>, <AutoDiffXd 0.0 nderiv=11>] u=AD{0.0, nderiv=11} a=AD{0.0, nderiv=11} g=AD{9.8, nderiv=0} l=AD{0.1, nderiv=0} res=AD{-0.0, nderiv=11}\n",
      "64 q=[<AutoDiffXd 0.0 nderiv=11>, <AutoDiffXd 0.0 nderiv=11>, <AutoDiffXd 0.0 nderiv=11>, <AutoDiffXd 0.0 nderiv=11>] u=AD{0.0, nderiv=11} a=AD{0.0, nderiv=11} g=AD{9.8, nderiv=0} l=AD{0.1, nderiv=0} res=AD{-0.0, nderiv=11}\n",
      "65 q=[<AutoDiffXd 0.0 nderiv=11>, <AutoDiffXd 0.0 nderiv=11>, <AutoDiffXd 0.0 nderiv=11>, <AutoDiffXd 0.0 nderiv=11>] u=AD{0.0, nderiv=11} a=AD{0.0, nderiv=11} g=AD{9.8, nderiv=0} l=AD{0.1, nderiv=0} res=AD{-0.0, nderiv=11}\n",
      "66 q=[<AutoDiffXd 0.0 nderiv=11>, <AutoDiffXd 0.0 nderiv=11>, <AutoDiffXd 0.0 nderiv=11>, <AutoDiffXd 0.0 nderiv=11>] u=AD{0.0, nderiv=11} a=AD{0.0, nderiv=11} g=AD{9.8, nderiv=0} l=AD{0.1, nderiv=0} res=AD{-0.0, nderiv=11}\n",
      "67 q=[<AutoDiffXd 0.0 nderiv=11>, <AutoDiffXd 0.0 nderiv=11>, <AutoDiffXd 0.0 nderiv=11>, <AutoDiffXd 0.0 nderiv=11>] u=AD{0.0, nderiv=11} a=AD{0.0, nderiv=11} g=AD{9.8, nderiv=0} l=AD{0.1, nderiv=0} res=AD{-0.0, nderiv=11}\n",
      "68 q=[<AutoDiffXd 0.0 nderiv=11>, <AutoDiffXd 0.0 nderiv=11>, <AutoDiffXd 0.0 nderiv=11>, <AutoDiffXd 0.0 nderiv=11>] u=AD{0.0, nderiv=11} a=AD{0.0, nderiv=11} g=AD{9.8, nderiv=0} l=AD{0.1, nderiv=0} res=AD{-0.0, nderiv=11}\n",
      "69 q=[<AutoDiffXd 0.0 nderiv=11>, <AutoDiffXd 0.0 nderiv=11>, <AutoDiffXd 0.0 nderiv=11>, <AutoDiffXd 0.0 nderiv=11>] u=AD{0.0, nderiv=11} a=AD{0.0, nderiv=11} g=AD{9.8, nderiv=0} l=AD{0.1, nderiv=0} res=AD{-0.0, nderiv=11}\n",
      "70 q=[<AutoDiffXd 0.0 nderiv=11>, <AutoDiffXd 0.0 nderiv=11>, <AutoDiffXd 0.0 nderiv=11>, <AutoDiffXd 0.0 nderiv=11>] u=AD{0.0, nderiv=11} a=AD{0.0, nderiv=11} g=AD{9.8, nderiv=0} l=AD{0.1, nderiv=0} res=AD{-0.0, nderiv=11}\n",
      "71 q=[<AutoDiffXd 0.0 nderiv=11>, <AutoDiffXd 0.0 nderiv=11>, <AutoDiffXd 0.0 nderiv=11>, <AutoDiffXd 0.0 nderiv=11>] u=AD{0.0, nderiv=11} a=AD{0.0, nderiv=11} g=AD{9.8, nderiv=0} l=AD{0.1, nderiv=0} res=AD{-0.0, nderiv=11}\n",
      "72 q=[<AutoDiffXd 0.0 nderiv=11>, <AutoDiffXd 0.0 nderiv=11>, <AutoDiffXd 0.0 nderiv=11>, <AutoDiffXd 0.0 nderiv=11>] u=AD{0.0, nderiv=11} a=AD{0.0, nderiv=11} g=AD{9.8, nderiv=0} l=AD{0.1, nderiv=0} res=AD{-0.0, nderiv=11}\n",
      "73 q=[<AutoDiffXd 0.0 nderiv=11>, <AutoDiffXd 0.0 nderiv=11>, <AutoDiffXd 0.0 nderiv=11>, <AutoDiffXd 0.0 nderiv=11>] u=AD{0.0, nderiv=11} a=AD{0.0, nderiv=11} g=AD{9.8, nderiv=0} l=AD{0.1, nderiv=0} res=AD{-0.0, nderiv=11}\n",
      "74 q=[<AutoDiffXd 0.0 nderiv=11>, <AutoDiffXd 0.0 nderiv=11>, <AutoDiffXd 0.0 nderiv=11>, <AutoDiffXd 0.0 nderiv=11>] u=AD{0.0, nderiv=11} a=AD{0.0, nderiv=11} g=AD{9.8, nderiv=0} l=AD{0.1, nderiv=0} res=AD{-0.0, nderiv=11}\n",
      "75 q=[<AutoDiffXd 0.0 nderiv=11>, <AutoDiffXd 0.0 nderiv=11>, <AutoDiffXd 0.0 nderiv=11>, <AutoDiffXd 0.0 nderiv=11>] u=AD{0.0, nderiv=11} a=AD{0.0, nderiv=11} g=AD{9.8, nderiv=0} l=AD{0.1, nderiv=0} res=AD{-0.0, nderiv=11}\n",
      "76 q=[<AutoDiffXd 0.0 nderiv=11>, <AutoDiffXd 0.0 nderiv=11>, <AutoDiffXd 0.0 nderiv=11>, <AutoDiffXd 0.0 nderiv=11>] u=AD{0.0, nderiv=11} a=AD{0.0, nderiv=11} g=AD{9.8, nderiv=0} l=AD{0.1, nderiv=0} res=AD{-0.0, nderiv=11}\n",
      "77 q=[<AutoDiffXd 0.0 nderiv=11>, <AutoDiffXd 0.0 nderiv=11>, <AutoDiffXd 0.0 nderiv=11>, <AutoDiffXd 0.0 nderiv=11>] u=AD{0.0, nderiv=11} a=AD{0.0, nderiv=11} g=AD{9.8, nderiv=0} l=AD{0.1, nderiv=0} res=AD{-0.0, nderiv=11}\n",
      "78 q=[<AutoDiffXd 0.0 nderiv=11>, <AutoDiffXd 0.0 nderiv=11>, <AutoDiffXd 0.0 nderiv=11>, <AutoDiffXd 0.0 nderiv=11>] u=AD{0.0, nderiv=11} a=AD{0.0, nderiv=11} g=AD{9.8, nderiv=0} l=AD{0.1, nderiv=0} res=AD{-0.0, nderiv=11}\n",
      "79 q=[<AutoDiffXd 0.0 nderiv=11>, <AutoDiffXd 0.0 nderiv=11>, <AutoDiffXd 0.0 nderiv=11>, <AutoDiffXd 0.0 nderiv=11>] u=AD{0.0, nderiv=11} a=AD{0.0, nderiv=11} g=AD{9.8, nderiv=0} l=AD{0.1, nderiv=0} res=AD{-0.0, nderiv=11}\n",
      "80 q=[<AutoDiffXd 0.0 nderiv=11>, <AutoDiffXd 0.0 nderiv=11>, <AutoDiffXd 0.0 nderiv=11>, <AutoDiffXd 0.0 nderiv=11>] u=AD{0.0, nderiv=11} a=AD{0.0, nderiv=11} g=AD{9.8, nderiv=0} l=AD{0.1, nderiv=0} res=AD{-0.0, nderiv=11}\n",
      "81 q=[<AutoDiffXd 0.0 nderiv=11>, <AutoDiffXd 0.0 nderiv=11>, <AutoDiffXd 0.0 nderiv=11>, <AutoDiffXd 0.0 nderiv=11>] u=AD{0.0, nderiv=11} a=AD{0.0, nderiv=11} g=AD{9.8, nderiv=0} l=AD{0.1, nderiv=0} res=AD{-0.0, nderiv=11}\n",
      "82 q=[<AutoDiffXd 0.0 nderiv=11>, <AutoDiffXd 0.0 nderiv=11>, <AutoDiffXd 0.0 nderiv=11>, <AutoDiffXd 0.0 nderiv=11>] u=AD{0.0, nderiv=11} a=AD{0.0, nderiv=11} g=AD{9.8, nderiv=0} l=AD{0.1, nderiv=0} res=AD{-0.0, nderiv=11}\n",
      "83 q=[<AutoDiffXd 0.0 nderiv=11>, <AutoDiffXd 0.0 nderiv=11>, <AutoDiffXd 0.0 nderiv=11>, <AutoDiffXd 0.0 nderiv=11>] u=AD{0.0, nderiv=11} a=AD{0.0, nderiv=11} g=AD{9.8, nderiv=0} l=AD{0.1, nderiv=0} res=AD{-0.0, nderiv=11}\n",
      "84 q=[<AutoDiffXd 0.0 nderiv=11>, <AutoDiffXd 0.0 nderiv=11>, <AutoDiffXd 0.0 nderiv=11>, <AutoDiffXd 0.0 nderiv=11>] u=AD{0.0, nderiv=11} a=AD{0.0, nderiv=11} g=AD{9.8, nderiv=0} l=AD{0.1, nderiv=0} res=AD{-0.0, nderiv=11}\n",
      "85 q=[<AutoDiffXd 0.0 nderiv=11>, <AutoDiffXd 0.0 nderiv=11>, <AutoDiffXd 0.0 nderiv=11>, <AutoDiffXd 0.0 nderiv=11>] u=AD{0.0, nderiv=11} a=AD{0.0, nderiv=11} g=AD{9.8, nderiv=0} l=AD{0.1, nderiv=0} res=AD{-0.0, nderiv=11}\n",
      "86 q=[<AutoDiffXd 0.0 nderiv=11>, <AutoDiffXd 0.0 nderiv=11>, <AutoDiffXd 0.0 nderiv=11>, <AutoDiffXd 0.0 nderiv=11>] u=AD{0.0, nderiv=11} a=AD{0.0, nderiv=11} g=AD{9.8, nderiv=0} l=AD{0.1, nderiv=0} res=AD{-0.0, nderiv=11}\n",
      "87 q=[<AutoDiffXd 0.0 nderiv=11>, <AutoDiffXd 0.0 nderiv=11>, <AutoDiffXd 0.0 nderiv=11>, <AutoDiffXd 0.0 nderiv=11>] u=AD{0.0, nderiv=11} a=AD{0.0, nderiv=11} g=AD{9.8, nderiv=0} l=AD{0.1, nderiv=0} res=AD{-0.0, nderiv=11}\n",
      "88 q=[<AutoDiffXd 0.0 nderiv=11>, <AutoDiffXd 0.0 nderiv=11>, <AutoDiffXd 0.0 nderiv=11>, <AutoDiffXd 0.0 nderiv=11>] u=AD{0.0, nderiv=11} a=AD{0.0, nderiv=11} g=AD{9.8, nderiv=0} l=AD{0.1, nderiv=0} res=AD{-0.0, nderiv=11}\n",
      "89 q=[<AutoDiffXd 0.0 nderiv=11>, <AutoDiffXd 0.0 nderiv=11>, <AutoDiffXd 0.0 nderiv=11>, <AutoDiffXd 0.0 nderiv=11>] u=AD{0.0, nderiv=11} a=AD{0.0, nderiv=11} g=AD{9.8, nderiv=0} l=AD{0.1, nderiv=0} res=AD{-0.0, nderiv=11}\n",
      "90 q=[<AutoDiffXd 0.0 nderiv=11>, <AutoDiffXd 0.0 nderiv=11>, <AutoDiffXd 0.0 nderiv=11>, <AutoDiffXd 0.0 nderiv=11>] u=AD{0.0, nderiv=11} a=AD{0.0, nderiv=11} g=AD{9.8, nderiv=0} l=AD{0.1, nderiv=0} res=AD{-0.0, nderiv=11}\n",
      "91 q=[<AutoDiffXd 0.0 nderiv=11>, <AutoDiffXd 0.0 nderiv=11>, <AutoDiffXd 0.0 nderiv=11>, <AutoDiffXd 0.0 nderiv=11>] u=AD{0.0, nderiv=11} a=AD{0.0, nderiv=11} g=AD{9.8, nderiv=0} l=AD{0.1, nderiv=0} res=AD{-0.0, nderiv=11}\n",
      "92 q=[<AutoDiffXd 0.0 nderiv=11>, <AutoDiffXd 0.0 nderiv=11>, <AutoDiffXd 0.0 nderiv=11>, <AutoDiffXd 0.0 nderiv=11>] u=AD{0.0, nderiv=11} a=AD{0.0, nderiv=11} g=AD{9.8, nderiv=0} l=AD{0.1, nderiv=0} res=AD{-0.0, nderiv=11}\n",
      "93 q=[<AutoDiffXd 0.0 nderiv=11>, <AutoDiffXd 0.0 nderiv=11>, <AutoDiffXd 0.0 nderiv=11>, <AutoDiffXd 0.0 nderiv=11>] u=AD{0.0, nderiv=11} a=AD{0.0, nderiv=11} g=AD{9.8, nderiv=0} l=AD{0.1, nderiv=0} res=AD{-0.0, nderiv=11}\n",
      "94 q=[<AutoDiffXd 0.0 nderiv=11>, <AutoDiffXd 0.0 nderiv=11>, <AutoDiffXd 0.0 nderiv=11>, <AutoDiffXd 0.0 nderiv=11>] u=AD{0.0, nderiv=11} a=AD{0.0, nderiv=11} g=AD{9.8, nderiv=0} l=AD{0.1, nderiv=0} res=AD{-0.0, nderiv=11}\n",
      "95 q=[<AutoDiffXd 0.0 nderiv=11>, <AutoDiffXd 0.0 nderiv=11>, <AutoDiffXd 0.0 nderiv=11>, <AutoDiffXd 0.0 nderiv=11>] u=AD{0.0, nderiv=11} a=AD{0.0, nderiv=11} g=AD{9.8, nderiv=0} l=AD{0.1, nderiv=0} res=AD{-0.0, nderiv=11}\n",
      "96 q=[<AutoDiffXd 0.0 nderiv=11>, <AutoDiffXd 0.0 nderiv=11>, <AutoDiffXd 0.0 nderiv=11>, <AutoDiffXd 0.0 nderiv=11>] u=AD{0.0, nderiv=11} a=AD{0.0, nderiv=11} g=AD{9.8, nderiv=0} l=AD{0.1, nderiv=0} res=AD{-0.0, nderiv=11}\n",
      "97 q=[<AutoDiffXd 0.0 nderiv=11>, <AutoDiffXd 0.0 nderiv=11>, <AutoDiffXd 0.0 nderiv=11>, <AutoDiffXd 0.0 nderiv=11>] u=AD{0.0, nderiv=11} a=AD{0.0, nderiv=11} g=AD{9.8, nderiv=0} l=AD{0.1, nderiv=0} res=AD{-0.0, nderiv=11}\n",
      "98 q=[<AutoDiffXd 0.0 nderiv=11>, <AutoDiffXd 0.0 nderiv=11>, <AutoDiffXd 0.0 nderiv=11>, <AutoDiffXd 0.0 nderiv=11>] u=AD{0.0, nderiv=11} a=AD{0.0, nderiv=11} g=AD{9.8, nderiv=0} l=AD{0.1, nderiv=0} res=AD{-0.0, nderiv=11}\n",
      "99 q=[<AutoDiffXd 0.0 nderiv=11>, <AutoDiffXd 0.0 nderiv=11>, <AutoDiffXd 0.0 nderiv=11>, <AutoDiffXd 0.0 nderiv=11>] u=AD{0.0, nderiv=11} a=AD{0.0, nderiv=11} g=AD{9.8, nderiv=0} l=AD{0.1, nderiv=0} res=AD{-0.0, nderiv=11}\n",
      "100 q=[<AutoDiffXd 0.0 nderiv=11>, <AutoDiffXd 0.0 nderiv=11>, <AutoDiffXd 0.0 nderiv=11>, <AutoDiffXd 0.0 nderiv=11>] u=AD{0.0, nderiv=11} a=AD{0.0, nderiv=11} g=AD{9.8, nderiv=0} l=AD{0.1, nderiv=0} res=AD{-0.0, nderiv=11}\n"
     ]
    },
    {
     "name": "stdout",
     "output_type": "stream",
     "text": [
      "<pydrake.solvers.mathematicalprogram.MathematicalProgramResult object at 0x4034eac5f0>\n"
     ]
    },
    {
     "ename": "AssertionError",
     "evalue": "Impossible find trajectory",
     "output_type": "error",
     "traceback": [
      "\u001b[0;31m\u001b[0m",
      "\u001b[0;31mAssertionError\u001b[0mTraceback (most recent call last)",
      "\u001b[0;32m<ipython-input-2-25022f321431>\u001b[0m in \u001b[0;36m<module>\u001b[0;34m()\u001b[0m\n\u001b[1;32m      2\u001b[0m \u001b[0;34m\u001b[0m\u001b[0m\n\u001b[1;32m      3\u001b[0m \u001b[0minit\u001b[0m \u001b[0;34m=\u001b[0m \u001b[0mState\u001b[0m\u001b[0;34m.\u001b[0m\u001b[0mhome\u001b[0m\u001b[0;34m(\u001b[0m\u001b[0;34m)\u001b[0m\u001b[0;34m\u001b[0m\u001b[0;34m\u001b[0m\u001b[0m\n\u001b[0;32m----> 4\u001b[0;31m \u001b[0mtrajectory\u001b[0m \u001b[0;34m=\u001b[0m \u001b[0mTrajectory\u001b[0m\u001b[0;34m(\u001b[0m\u001b[0mconfig\u001b[0m\u001b[0;34m,\u001b[0m \u001b[0minit\u001b[0m\u001b[0;34m)\u001b[0m\u001b[0;34m\u001b[0m\u001b[0;34m\u001b[0m\u001b[0m\n\u001b[0m\u001b[1;32m      5\u001b[0m \u001b[0;34m\u001b[0m\u001b[0m\n\u001b[1;32m      6\u001b[0m \u001b[0;31m# balance_control = BalanceLQRControl(config)\u001b[0m\u001b[0;34m\u001b[0m\u001b[0;34m\u001b[0m\u001b[0;34m\u001b[0m\u001b[0m\n",
      "\u001b[0;32m/home/sandbox/cart_pole/control/trajectory.py\u001b[0m in \u001b[0;36m__init__\u001b[0;34m(self, config, initial_state, sample_n, max_duration)\u001b[0m\n\u001b[1;32m     69\u001b[0m \u001b[0;32mclass\u001b[0m \u001b[0mTrajectory\u001b[0m\u001b[0;34m:\u001b[0m\u001b[0;34m\u001b[0m\u001b[0;34m\u001b[0m\u001b[0m\n\u001b[1;32m     70\u001b[0m     \u001b[0;32mdef\u001b[0m \u001b[0m__init__\u001b[0m\u001b[0;34m(\u001b[0m\u001b[0mself\u001b[0m\u001b[0;34m,\u001b[0m \u001b[0mconfig\u001b[0m\u001b[0;34m,\u001b[0m \u001b[0minitial_state\u001b[0m\u001b[0;34m,\u001b[0m \u001b[0msample_n\u001b[0m\u001b[0;34m=\u001b[0m\u001b[0;36m100\u001b[0m\u001b[0;34m,\u001b[0m \u001b[0mmax_duration\u001b[0m\u001b[0;34m=\u001b[0m\u001b[0;36m5\u001b[0m\u001b[0;34m)\u001b[0m\u001b[0;34m:\u001b[0m\u001b[0;34m\u001b[0m\u001b[0;34m\u001b[0m\u001b[0m\n\u001b[0;32m---> 71\u001b[0;31m         \u001b[0mstates\u001b[0m\u001b[0;34m,\u001b[0m \u001b[0mtargets\u001b[0m \u001b[0;34m=\u001b[0m \u001b[0mbuild_trajectory\u001b[0m\u001b[0;34m(\u001b[0m\u001b[0mconfig\u001b[0m\u001b[0;34m,\u001b[0m \u001b[0minitial_state\u001b[0m\u001b[0;34m,\u001b[0m \u001b[0msample_n\u001b[0m\u001b[0;34m=\u001b[0m\u001b[0;36m100\u001b[0m\u001b[0;34m,\u001b[0m \u001b[0mmax_duration\u001b[0m\u001b[0;34m=\u001b[0m\u001b[0;36m5\u001b[0m\u001b[0;34m)\u001b[0m\u001b[0;34m\u001b[0m\u001b[0;34m\u001b[0m\u001b[0m\n\u001b[0m\u001b[1;32m     72\u001b[0m         \u001b[0mself\u001b[0m\u001b[0;34m.\u001b[0m\u001b[0mstates\u001b[0m \u001b[0;34m=\u001b[0m \u001b[0mstates\u001b[0m\u001b[0;34m\u001b[0m\u001b[0;34m\u001b[0m\u001b[0m\n\u001b[1;32m     73\u001b[0m         \u001b[0mself\u001b[0m\u001b[0;34m.\u001b[0m\u001b[0mtargets\u001b[0m \u001b[0;34m=\u001b[0m \u001b[0mtargets\u001b[0m\u001b[0;34m\u001b[0m\u001b[0;34m\u001b[0m\u001b[0m\n",
      "\u001b[0;32m/home/sandbox/cart_pole/control/trajectory.py\u001b[0m in \u001b[0;36mbuild_trajectory\u001b[0;34m(config, initial_state, sample_n, max_duration)\u001b[0m\n\u001b[1;32m     60\u001b[0m     \u001b[0mresult\u001b[0m \u001b[0;34m=\u001b[0m \u001b[0mSolve\u001b[0m\u001b[0;34m(\u001b[0m\u001b[0mprogram\u001b[0m\u001b[0;34m)\u001b[0m\u001b[0;34m\u001b[0m\u001b[0;34m\u001b[0m\u001b[0m\n\u001b[1;32m     61\u001b[0m     \u001b[0mprint\u001b[0m\u001b[0;34m(\u001b[0m\u001b[0mresult\u001b[0m\u001b[0;34m)\u001b[0m\u001b[0;34m\u001b[0m\u001b[0;34m\u001b[0m\u001b[0m\n\u001b[0;32m---> 62\u001b[0;31m     \u001b[0;32massert\u001b[0m \u001b[0mresult\u001b[0m\u001b[0;34m.\u001b[0m\u001b[0mis_success\u001b[0m\u001b[0;34m(\u001b[0m\u001b[0;34m)\u001b[0m\u001b[0;34m,\u001b[0m \u001b[0;34m'Impossible find trajectory'\u001b[0m\u001b[0;34m\u001b[0m\u001b[0;34m\u001b[0m\u001b[0m\n\u001b[0m\u001b[1;32m     63\u001b[0m \u001b[0;34m\u001b[0m\u001b[0m\n\u001b[1;32m     64\u001b[0m     \u001b[0mtargets\u001b[0m \u001b[0;34m=\u001b[0m \u001b[0mprogram\u001b[0m\u001b[0;34m.\u001b[0m\u001b[0mReconstructInputTrajectory\u001b[0m\u001b[0;34m(\u001b[0m\u001b[0mresult\u001b[0m\u001b[0;34m)\u001b[0m\u001b[0;34m\u001b[0m\u001b[0;34m\u001b[0m\u001b[0m\n",
      "\u001b[0;31mAssertionError\u001b[0m: Impossible find trajectory"
     ]
    }
   ],
   "source": [
    "config = Config()\n",
    "\n",
    "init = State.home()\n",
    "trajectory = Trajectory(config, init)\n",
    "\n",
    "# balance_control = BalanceLQRControl(config)\n",
    "# trajectory_control = TrajectoryLQRControl(config, trajectory)"
   ]
  },
  {
   "cell_type": "code",
   "execution_count": null,
   "metadata": {},
   "outputs": [],
   "source": [
    "stamps, states, targets = trajectory.sample(100)\n",
    "print(targets)\n",
    "fig, ax = plt.subplots(3, 1, figsize=(16, 16))\n",
    "    \n",
    "ax[0].plot(stamps, targets, label=r'cart acceleration ($m/s^2$)')\n",
    "\n",
    "ax[1].plot(stamps, states[:, 0], label='cart position ($m$)')\n",
    "ax[1].plot(stamps, states[:, 2], label='cart velocity ($m/s$)')\n",
    "\n",
    "ax[2].plot(stamps, states[:, 1], label=r'pole angle ($rad$)')\n",
    "ax[2].plot(stamps, states[:, 3], label=r'pole angular velocity ($rad/s$)')\n",
    "\n",
    "for i in range(3):\n",
    "    ax[i].legend(loc='upper left')\n",
    "    ax[i].set_xlabel(r'$t$')\n",
    "    ax[i].grid()"
   ]
  },
  {
   "cell_type": "code",
   "execution_count": null,
   "metadata": {},
   "outputs": [],
   "source": [
    "cart_pole = CartPoleSimulator()\n",
    "cart_pole.reset(config)\n",
    "\n",
    "timestamps, states, targets = [], [], []\n",
    "states_expected, targets_expected = [], []\n",
    "start = cart_pole.timestamp()\n",
    "\n",
    "for _ in range(150):\n",
    "    state = cart_pole.get_state()\n",
    "    stamp = cart_pole.timestamp() - start\n",
    "    \n",
    "    if stamp < trajectory.duration:\n",
    "        target = trajectory_control(stamp, state)\n",
    "    else:\n",
    "        target = balance_control(state)\n",
    "    \n",
    "    cart_pole.set_target(target)\n",
    "    cart_pole.advance(0.01)\n",
    "    \n",
    "    timestamps.append(stamp)\n",
    "    states.append(state)\n",
    "    targets.append(target)\n",
    "    \n",
    "    state_expected, target_expected = trajectory(stamp)\n",
    "    \n",
    "    states_expected.append(state_expected)\n",
    "    targets_expected.append(target_expected)"
   ]
  },
  {
   "cell_type": "code",
   "execution_count": null,
   "metadata": {},
   "outputs": [],
   "source": [
    "data = np.array([state.as_tuple() for state in states])\n",
    "\n",
    "fig, ax = plt.subplots(2, 1, figsize=(16, 16))\n",
    "\n",
    "x = [trajectory.states.value(t)[0] for t in timestamps]\n",
    "v = [trajectory.states.value(t)[2] for t in timestamps]\n",
    "\n",
    "ax[0].plot(timestamps, data[:, 0], c='r', label='cart position ($m$)')\n",
    "ax[0].plot(timestamps, x, c='r', alpha=0.2, linewidth=12)\n",
    "\n",
    "ax[0].plot(timestamps, data[:, 2], c='blue', label='cart velocity ($m/s$)')\n",
    "ax[0].plot(timestamps, v, c='blue', alpha=0.2, linewidth=12)\n",
    "\n",
    "a = [trajectory.states.value(t)[1] for t in timestamps]\n",
    "w = [trajectory.states.value(t)[3] for t in timestamps]\n",
    "\n",
    "ax[1].plot(timestamps, data[:, 1], c='r', label=r'pole angle ($rad$)')\n",
    "ax[1].plot(timestamps, a, c='r', alpha=0.2, linewidth=12)\n",
    "\n",
    "ax[1].plot(timestamps, data[:, 3], c='blue', label=r'pole angular velocity ($rad/s$)')\n",
    "ax[1].plot(timestamps, w, c='blue', alpha=0.2, linewidth=12)\n",
    "\n",
    "for i in range(2):\n",
    "    ax[i].legend(loc='upper right')\n",
    "    ax[i].set_xlabel(r'$t$')\n",
    "    ax[i].grid()"
   ]
  },
  {
   "cell_type": "code",
   "execution_count": null,
   "metadata": {},
   "outputs": [],
   "source": [
    "anim = generate_pyplot_animation(config, states, states_expected, timestamps=timestamps)\n",
    "HTML(anim.to_jshtml())"
   ]
  },
  {
   "cell_type": "code",
   "execution_count": null,
   "metadata": {},
   "outputs": [],
   "source": []
  }
 ],
 "metadata": {
  "kernelspec": {
   "display_name": "Python 3",
   "language": "python",
   "name": "python3"
  }
 },
 "nbformat": 4,
 "nbformat_minor": 2
}
